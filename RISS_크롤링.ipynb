{
 "cells": [
  {
   "cell_type": "code",
   "execution_count": 182,
   "id": "d5ae9443-3bad-45f4-8a7e-e1ae5472cd97",
   "metadata": {},
   "outputs": [],
   "source": [
    "import requests\n",
    "import pandas as pd\n",
    "import bs4\n",
    "from selenium import webdriver\n",
    "from selenium.webdriver.common.by import By\n",
    "import time"
   ]
  },
  {
   "cell_type": "code",
   "execution_count": 184,
   "id": "904aea40-d62f-4bfe-abd4-dd08727863de",
   "metadata": {},
   "outputs": [],
   "source": [
    "# 파라미터 종류가 많을 경우\n",
    "\n",
    "param = {\n",
    "    'isDetailSearch': 'N',\n",
    "    'searchGubun': 'true',\n",
    "    'viewYn': 'OP',\n",
    "    'strQuery': '패션 인공지능',\n",
    "    'order': '/DESC',\n",
    "    'onHanja': 'false',\n",
    "    'strSort': 'RANK',\n",
    "    'iStartCount': 0,\n",
    "    'sflag': 1,\n",
    "    'isFDetailSearch': 'N',\n",
    "    'pageNumber': 1,\n",
    "    'resultKeyword': '패션 인공지능',\n",
    "    'icate': 're_a_kor',\n",
    "    'colName': 're_a_kor',\n",
    "    'pageScale': 10,\n",
    "    'isTab': 'Y',\n",
    "    'query': '패션 인공지능',\n",
    "}"
   ]
  },
  {
   "cell_type": "code",
   "execution_count": 186,
   "id": "83baaa76-c9d9-4b9a-ba5e-887702bc89d9",
   "metadata": {},
   "outputs": [],
   "source": [
    "url = \"https://www.riss.kr/search/Search.do\"\n",
    "res = requests.get(url, params = param)\n",
    "soup = bs4.BeautifulSoup(res.text)"
   ]
  },
  {
   "cell_type": "code",
   "execution_count": 187,
   "id": "324d3096-fea4-40ac-9941-37db53bde390",
   "metadata": {},
   "outputs": [],
   "source": [
    "elements = soup.select(\".cont.ml60\")"
   ]
  },
  {
   "cell_type": "code",
   "execution_count": 190,
   "id": "8fed0243-aa71-4b20-a623-ac5624883a0d",
   "metadata": {},
   "outputs": [],
   "source": [
    "elements = soup.select(\".srchResultListW > ul > li\")"
   ]
  },
  {
   "cell_type": "code",
   "execution_count": 192,
   "id": "5ff5fe9f-52b2-423f-9d2f-602ae805d935",
   "metadata": {},
   "outputs": [
    {
     "data": {
      "text/plain": [
       "10"
      ]
     },
     "execution_count": 192,
     "metadata": {},
     "output_type": "execute_result"
    }
   ],
   "source": [
    "len(elements)"
   ]
  },
  {
   "cell_type": "code",
   "execution_count": 194,
   "id": "f9efc5b4-b0e4-4f36-a92c-038ee20e897a",
   "metadata": {},
   "outputs": [
    {
     "data": {
      "text/plain": [
       "'https://www.riss.kr/search/detail/DetailView.do?p_mat_type=1a0202e37d52c72d&control_no=dcd1a8e873c0ca787ecd42904f0c5d65&keyword=패션 인공지능'"
      ]
     },
     "execution_count": 194,
     "metadata": {},
     "output_type": "execute_result"
    }
   ],
   "source": [
    "link = \"https://www.riss.kr\" + elements[0].select_one(\".title > a\").attrs[\"href\"]\n",
    "link"
   ]
  },
  {
   "cell_type": "code",
   "execution_count": 196,
   "id": "bdfe8d9c-bfec-434a-8423-c339e22de6ab",
   "metadata": {},
   "outputs": [],
   "source": [
    "headers = {\n",
    "    'accept':\n",
    "'text/html,application/xhtml+xml,application/xml;q=0.9,image/avif,image/webp,image/apng,*/*;q=0.8,application/signed-exchange;v=b3;q=0.7',\n",
    "'accept-encoding':\n",
    "'gzip, deflate, br, zstd',\n",
    "'accept-language':\n",
    "'ko-KR,ko;q=0.9,en-US;q=0.8,en;q=0.7',\n",
    "'cache-control':\n",
    "'max-age=0',\n",
    "'connection':\n",
    "'keep-alive',\n",
    "'cookie':\n",
    "'JSESSIONID=xKFrPftFpgy9zYcgZ1Gu9nMbZyBThHjKG9GGYFe34MCdgTI7v3e21mmutHePZf6a.amV1c19kb21haW4vcmlzc3dhczJfY29udGFpbmVyMQ==; WMONID=ZGn2FxH-9ap; _ga=GA1.1.739771833.1740983462; TodayView=1a0202e37d52c72d_dcd1a8e873c0ca787ecd42904f0c5d65_%ED%8C%A8%EC%85%98+%EC%A0%9C%EC%A1%B0+%EA%B8%B0%EC%97%85%EC%9D%98+%EB%94%94%EC%A7%80%ED%84%B8+%ED%8A%B8%EB%9E%9C%EC%8A%A4%ED%8F%AC%EB%A9%94%EC%9D%B4%EC%85%98%EC%9D%84+%EC%9C%84%ED%95%9C+%EC%9D%B8%EA%B3%B5%EC%A7%80%EB%8A%A5+%EC%86%94%EB%A3%A8%EC%85%98+%EA%B0%9C%EB%B0%9C+%EB%B0%8F+%ED%99%9C%EC%9A%A9+%ED%98%84%ED%99%A9_RISS; TodayKeyword=%ED%8C%A8%EC%85%98+%EC%9D%B8%EA%B3%B5%EC%A7%80%EB%8A%A5,84,re_a_kor:%ED%8C%A8%EC%85%98+%EC%9D%B8%EA%B3%B5%EC%A7%80%EB%8A%A5,84,re_a_kor:%ED%8C%A8%EC%85%98+%EC%9D%B8%EA%B3%B5%EC%A7%80%EB%8A%A5,84,re_a_kor:%ED%8C%A8%EC%85%98+%EC%9D%B8%EA%B3%B5%EC%A7%80%EB%8A%A5,84,re_a_kor; _ga_E7TB6KFQFY=GS1.1.1740983461.1.1.1740985767.0.0.0',\n",
    "'host':\n",
    "'www.riss.kr',\n",
    "'referer':\n",
    "'http://localhost:8888/',\n",
    "'sec-ch-ua':\n",
    "'\"Not(A:Brand\";v=\"99\", \"Google Chrome\";v=\"133\", \"Chromium\";v=\"133\"',\n",
    "'sec-ch-ua-mobile':\n",
    "'?0',\n",
    "'sec-ch-ua-platform':\n",
    "'\"Windows\"',\n",
    "'sec-fetch-dest':\n",
    "'document',\n",
    "'sec-fetch-mode':\n",
    "'navigate',\n",
    "'sec-fetch-site':\n",
    "'cross-site',\n",
    "'sec-fetch-user':\n",
    "'?1',\n",
    "'upgrade-insecure-requests':\n",
    "'1',\n",
    "'user-agent':\n",
    "'Mozilla/5.0 (Windows NT 10.0; Win64; x64) AppleWebKit/537.36 (KHTML, like Gecko) Chrome/133.0.0.0 Safari/537.36',\n",
    "}"
   ]
  },
  {
   "cell_type": "code",
   "execution_count": 198,
   "id": "58f5b855-fbef-4e9d-ada6-ad3070957635",
   "metadata": {},
   "outputs": [],
   "source": [
    "res = requests.get(link, headers = headers)\n",
    "soup = bs4.BeautifulSoup(res.text)\n"
   ]
  },
  {
   "cell_type": "code",
   "execution_count": 199,
   "id": "ecae1914-d9ca-4bd5-b808-1ee76a0ef112",
   "metadata": {},
   "outputs": [
    {
     "data": {
      "text/plain": [
       "'김하연'"
      ]
     },
     "execution_count": 199,
     "metadata": {},
     "output_type": "execute_result"
    }
   ],
   "source": [
    "soup.select_one(\"div.infoDetailL ul li:nth-of-type(1) a\").text"
   ]
  },
  {
   "cell_type": "code",
   "execution_count": 202,
   "id": "e10f5734-b5be-4947-b1d6-f639a556712a",
   "metadata": {},
   "outputs": [
    {
     "data": {
      "text/plain": [
       "'2022'"
      ]
     },
     "execution_count": 202,
     "metadata": {},
     "output_type": "execute_result"
    }
   ],
   "source": [
    "soup.select_one(\"div.infoDetailL ul li:nth-of-type(5) > div\").text"
   ]
  },
  {
   "cell_type": "code",
   "execution_count": 204,
   "id": "ea9f15f6-7275-4237-acda-643149fa4340",
   "metadata": {},
   "outputs": [
    {
     "data": {
      "text/plain": [
       "['디지털',\n",
       " '트랜스포메이션',\n",
       " '패션산업',\n",
       " '인공지능',\n",
       " 'AI',\n",
       " '진화',\n",
       " '단계',\n",
       " 'digital',\n",
       " 'transformation',\n",
       " 'fashion',\n",
       " 'business',\n",
       " 'artificial',\n",
       " 'intelligence',\n",
       " 'AI',\n",
       " 'evolutionary',\n",
       " 'stage']"
      ]
     },
     "execution_count": 204,
     "metadata": {},
     "output_type": "execute_result"
    }
   ],
   "source": [
    "soup.select_one(\"div.infoDetailL ul li:nth-of-type(7) > div > p\").text.strip().replace(\";\",'').split()"
   ]
  },
  {
   "cell_type": "code",
   "execution_count": 292,
   "id": "4e9204fc-3613-4489-8532-c03765d3fe17",
   "metadata": {},
   "outputs": [
    {
     "data": {
      "text/plain": [
       "[]"
      ]
     },
     "execution_count": 292,
     "metadata": {},
     "output_type": "execute_result"
    }
   ],
   "source": [
    "soup.find_all('span', string='주제어')"
   ]
  },
  {
   "cell_type": "code",
   "execution_count": 206,
   "id": "6b84c40d-b425-451d-9572-02c0461df406",
   "metadata": {},
   "outputs": [
    {
     "data": {
      "text/plain": [
       "'주제어'"
      ]
     },
     "execution_count": 206,
     "metadata": {},
     "output_type": "execute_result"
    }
   ],
   "source": [
    "soup.select_one(\"div.infoDetailL ul li:nth-of-type(7) > span\").text"
   ]
  },
  {
   "cell_type": "code",
   "execution_count": 175,
   "id": "56210d07-1c00-4edf-87ec-7f06ca0a5368",
   "metadata": {},
   "outputs": [
    {
     "name": "stdout",
     "output_type": "stream",
     "text": [
      "패션 제조 기업의 디지털 트랜스포메이션을 위한 인공지능 솔루션 개발 및 활용 현황 https://www.riss.kr/search/detail/DetailView.do?p_mat_type=1a0202e37d52c72d&control_no=dcd1a8e873c0ca787ecd42904f0c5d65&keyword=패션 인공지능 한국패션비즈니스학회 2022 ['디지털', '트랜스포메이션', '패션산업', '인공지능', 'AI', '진화', '단계', 'digital', 'transformation', 'fashion', 'business', 'artificial', 'intelligence', 'AI', 'evolutionary', 'stage']\n",
      " \n",
      "텍스트마이닝을 활용한 인공지능과 패션의 융합에 대한 인식변화 분석 https://www.riss.kr/search/detail/DetailView.do?p_mat_type=1a0202e37d52c72d&control_no=657a0ea4ce31f352b36097776a77e665&keyword=패션 인공지능 한국전시산업융합연구원 2025 ['인공지능', '패션', '인공지능', '패션', '텍스트', '마이닝', '융합', 'AI', 'Fashion', 'AI', 'Fashion', 'Text', 'Mining', 'Convergence']\n",
      " \n",
      "패션산업에 반영된 인공지능 사례연구 -패션 소비자 중심으로- https://www.riss.kr/search/detail/DetailView.do?p_mat_type=1a0202e37d52c72d&control_no=9c3313ce986b119147de9c1710b0298d&keyword=패션 인공지능 한국디자인문화학회 2020 ['Artificial', 'Intelligence(인공지능)', 'Fashion', 'Industry(패션산업)', 'Fashion', 'Design', '(패션', '디자인)']\n",
      " \n",
      "인공지능(AI) 패션 스타일링 서비스 ‘스티치 픽스’의 융합 콘텐츠 연구 https://www.riss.kr/search/detail/DetailView.do?p_mat_type=1a0202e37d52c72d&control_no=404996b30e5d827bb7998d826d417196&keyword=패션 인공지능 한국전시산업융합연구원 2020 ['Artificial', 'Intelligence(인공지능)', 'Fashion', 'Styling', 'Service(패션', '스타일링', '서비스)', 'Stitch', 'Fix(스티치', '픽스)', 'Convergence', 'Content(융합', '콘텐츠)']\n",
      " \n",
      "생성형 인공지능이 적용된 패션 이미지의 활용방안 제안-학습용 인공지능 데이터와 인공지능 기술적용 중심으로- https://www.riss.kr/search/detail/DetailView.do?p_mat_type=1a0202e37d52c72d&control_no=b22cdd16f60538efd18150b21a227875&keyword=패션 인공지능 한국디자인문화학회 2023 ['AI', 'Learning(인공지능', '학습)', 'Fashion', 'Generative', 'AI', '(패션생성형', '인공지능)', 'Fashion', 'Daraset(패션', '데이터세트)', 'AI', 'Fashion(인공지능', '패션)']\n",
      " \n",
      "인공지능 기반의 패션 제품 사례 연구 https://www.riss.kr/search/detail/DetailView.do?p_mat_type=1a0202e37d52c72d&control_no=1eadfd1deba772aac85d2949c297615a&keyword=패션 인공지능 한국기초조형학회(Korean Society of Basic Design & Art) 2021 ['4차', '산업혁명', '스마트', '인공지능', '패션', '제품', 'artificial', 'intelligence', 'fashion', 'products', 'smart', 'the', '4th', 'industrial', 'revolution']\n",
      " \n",
      "인공지능 학습용 패션 데이터셋 최근 동향 조사 https://www.riss.kr/search/detail/DetailView.do?p_mat_type=1a0202e37d52c72d&control_no=c4e4105ef5ab879fb7998d826d417196&keyword=패션 인공지능 한국방송·미디어공학회 2020 \n",
      " \n",
      "패션산업에서 인공지능 기반의 디자인 프로세스 혁신에 관한 연구 https://www.riss.kr/search/detail/DetailView.do?p_mat_type=1a0202e37d52c72d&control_no=78a4c578a5bbf1a94884a65323211ff0&keyword=패션 인공지능 커뮤니케이션디자인학회 2019 ['인공지능', '기술', '혁신', '디자인', '혁신', '프로세스', '혁신', '패션', '디자인', '프로세스', '혁신', 'Artificial', 'Intelligence', 'Technological', 'Innovation', 'Design', 'Innovation', 'Process', 'Innovation', 'Fashion', 'Design', 'Process', 'Innovation']\n",
      " \n",
      "패션과 인공지능을 융합한 2D 이미지 기반 가상 착의의 복합적 특성 개선 연구 https://www.riss.kr/search/detail/DetailView.do?p_mat_type=1a0202e37d52c72d&control_no=e7b83280940ee1757ecd42904f0c5d65&keyword=패션 인공지능 한국전시산업융합연구원 2022 ['2D', 'Virtual', 'Try-on', 'AI', 'Fashion', 'Convergence', 'Deep', 'Learning', 'Fashion', 'Fashion', 'Digital', 'Transformation', '2D', '가상', '착의', 'AI', '패션', '융합', '딥러닝', '패션', '패션디지털', '전환']\n",
      " \n",
      "인공지능이 패션산업에 미치는 영향 : 기계학습을 중심으로 https://www.riss.kr/search/detail/DetailView.do?p_mat_type=1a0202e37d52c72d&control_no=13d063967a0be5024884a65323211ff0&keyword=패션 인공지능 한국생활과학회(KOREAN LIVING SCIENCE ASSOCIATION) 2019 \n",
      " \n"
     ]
    }
   ],
   "source": [
    "import urllib3\n",
    "urllib3.disable_warnings()\n",
    "\n",
    "for element in elements :\n",
    "    title = element.select_one(\".title > a\").text\n",
    "    link = \"https://www.riss.kr\" + element.select_one(\".title > a\").attrs[\"href\"]\n",
    "\n",
    "    #상세 페이지 요청\n",
    "    res = requests.get(link, headers = headers, verify=False)\n",
    "    soup = bs4.BeautifulSoup(res.text)\n",
    "    press = soup.select_one(\"div.infoDetailL ul li:nth-of-type(2) a\").text\n",
    "    years = soup.select_one(\"div.infoDetailL ul li:nth-of-type(5) > div\").text\n",
    "\n",
    "    tag = soup.select_one(\"div.infoDetailL ul li:nth-of-type(7) > span\").text\n",
    "\n",
    "    if tag == '주제어' :\n",
    "        tag = soup.select_one(\"div.infoDetailL ul li:nth-of-type(7) > div > p\").text.strip().replace(\";\",'').split()\n",
    "    else :\n",
    "        tag = \"\"\n",
    "    \n",
    "    print(title, link, press, years, tag)\n",
    "    print(\" \")"
   ]
  },
  {
   "cell_type": "markdown",
   "id": "246759b4-1555-48df-9867-18372f3bbce8",
   "metadata": {},
   "source": [
    "### 텍스트를 기준으로 찾기"
   ]
  },
  {
   "cell_type": "code",
   "execution_count": 296,
   "id": "0f63b4e1-14b7-425b-8f6a-41d400bb3e9f",
   "metadata": {},
   "outputs": [
    {
     "name": "stdout",
     "output_type": "stream",
     "text": [
      "https://www.riss.kr/search/detail/DetailView.do?p_mat_type=1a0202e37d52c72d&control_no=dcd1a8e873c0ca787ecd42904f0c5d65&keyword=패션 인공지능\n",
      "패션 제조 기업의 디지털 트랜스포메이션을 위한 인공지능 솔루션 개발 및 활용 현황 https://www.riss.kr/search/detail/DetailView.do?p_mat_type=1a0202e37d52c72d&control_no=dcd1a8e873c0ca787ecd42904f0c5d65&keyword=패션 인공지능 한국패션비즈니스학회 2022 ['디지털', '트랜스포메이션', '패션산업', '인공지능', 'AI', '진화', '단계', 'digital', 'transformation', 'fashion', 'business', 'artificial', 'intelligence', 'AI', 'evolutionary', 'stage']\n",
      "\n",
      "https://www.riss.kr/search/detail/DetailView.do?p_mat_type=1a0202e37d52c72d&control_no=657a0ea4ce31f352b36097776a77e665&keyword=패션 인공지능\n",
      "텍스트마이닝을 활용한 인공지능과 패션의 융합에 대한 인식변화 분석 https://www.riss.kr/search/detail/DetailView.do?p_mat_type=1a0202e37d52c72d&control_no=657a0ea4ce31f352b36097776a77e665&keyword=패션 인공지능 한국전시산업융합연구원 2025 ['인공지능', '패션', '인공지능', '패션', '텍스트', '마이닝', '융합', 'AI', 'Fashion', 'AI', 'Fashion', 'Text', 'Mining', 'Convergence']\n",
      "\n",
      "https://www.riss.kr/search/detail/DetailView.do?p_mat_type=1a0202e37d52c72d&control_no=9c3313ce986b119147de9c1710b0298d&keyword=패션 인공지능\n",
      "패션산업에 반영된 인공지능 사례연구 -패션 소비자 중심으로- https://www.riss.kr/search/detail/DetailView.do?p_mat_type=1a0202e37d52c72d&control_no=9c3313ce986b119147de9c1710b0298d&keyword=패션 인공지능 한국디자인문화학회 2020 ['Artificial', 'Intelligence(인공지능)', 'Fashion', 'Industry(패션산업)', 'Fashion', 'Design', '(패션', '디자인)']\n",
      "\n",
      "https://www.riss.kr/search/detail/DetailView.do?p_mat_type=1a0202e37d52c72d&control_no=404996b30e5d827bb7998d826d417196&keyword=패션 인공지능\n",
      "인공지능(AI) 패션 스타일링 서비스 ‘스티치 픽스’의 융합 콘텐츠 연구 https://www.riss.kr/search/detail/DetailView.do?p_mat_type=1a0202e37d52c72d&control_no=404996b30e5d827bb7998d826d417196&keyword=패션 인공지능 한국전시산업융합연구원 2020 ['Artificial', 'Intelligence(인공지능)', 'Fashion', 'Styling', 'Service(패션', '스타일링', '서비스)', 'Stitch', 'Fix(스티치', '픽스)', 'Convergence', 'Content(융합', '콘텐츠)']\n",
      "\n",
      "https://www.riss.kr/search/detail/DetailView.do?p_mat_type=1a0202e37d52c72d&control_no=b22cdd16f60538efd18150b21a227875&keyword=패션 인공지능\n",
      "생성형 인공지능이 적용된 패션 이미지의 활용방안 제안-학습용 인공지능 데이터와 인공지능 기술적용 중심으로- https://www.riss.kr/search/detail/DetailView.do?p_mat_type=1a0202e37d52c72d&control_no=b22cdd16f60538efd18150b21a227875&keyword=패션 인공지능 한국디자인문화학회 2023 ['AI', 'Learning(인공지능', '학습)', 'Fashion', 'Generative', 'AI', '(패션생성형', '인공지능)', 'Fashion', 'Daraset(패션', '데이터세트)', 'AI', 'Fashion(인공지능', '패션)']\n",
      "\n",
      "https://www.riss.kr/search/detail/DetailView.do?p_mat_type=1a0202e37d52c72d&control_no=1eadfd1deba772aac85d2949c297615a&keyword=패션 인공지능\n",
      "인공지능 기반의 패션 제품 사례 연구 https://www.riss.kr/search/detail/DetailView.do?p_mat_type=1a0202e37d52c72d&control_no=1eadfd1deba772aac85d2949c297615a&keyword=패션 인공지능 한국기초조형학회(Korean Society of Basic Design & Art) 2021 ['4차', '산업혁명', '스마트', '인공지능', '패션', '제품', 'artificial', 'intelligence', 'fashion', 'products', 'smart', 'the', '4th', 'industrial', 'revolution']\n",
      "\n",
      "https://www.riss.kr/search/detail/DetailView.do?p_mat_type=1a0202e37d52c72d&control_no=c4e4105ef5ab879fb7998d826d417196&keyword=패션 인공지능\n",
      "인공지능 학습용 패션 데이터셋 최근 동향 조사 https://www.riss.kr/search/detail/DetailView.do?p_mat_type=1a0202e37d52c72d&control_no=c4e4105ef5ab879fb7998d826d417196&keyword=패션 인공지능 한국방송·미디어공학회 2020 \n",
      "\n",
      "https://www.riss.kr/search/detail/DetailView.do?p_mat_type=1a0202e37d52c72d&control_no=78a4c578a5bbf1a94884a65323211ff0&keyword=패션 인공지능\n",
      "패션산업에서 인공지능 기반의 디자인 프로세스 혁신에 관한 연구 https://www.riss.kr/search/detail/DetailView.do?p_mat_type=1a0202e37d52c72d&control_no=78a4c578a5bbf1a94884a65323211ff0&keyword=패션 인공지능 커뮤니케이션디자인학회 2019 ['인공지능', '기술', '혁신', '디자인', '혁신', '프로세스', '혁신', '패션', '디자인', '프로세스', '혁신', 'Artificial', 'Intelligence', 'Technological', 'Innovation', 'Design', 'Innovation', 'Process', 'Innovation', 'Fashion', 'Design', 'Process', 'Innovation']\n",
      "\n",
      "https://www.riss.kr/search/detail/DetailView.do?p_mat_type=1a0202e37d52c72d&control_no=e7b83280940ee1757ecd42904f0c5d65&keyword=패션 인공지능\n",
      "패션과 인공지능을 융합한 2D 이미지 기반 가상 착의의 복합적 특성 개선 연구 https://www.riss.kr/search/detail/DetailView.do?p_mat_type=1a0202e37d52c72d&control_no=e7b83280940ee1757ecd42904f0c5d65&keyword=패션 인공지능 한국전시산업융합연구원 2022 ['2D', 'Virtual', 'Try-on', 'AI', 'Fashion', 'Convergence', 'Deep', 'Learning', 'Fashion', 'Fashion', 'Digital', 'Transformation', '2D', '가상', '착의', 'AI', '패션', '융합', '딥러닝', '패션', '패션디지털', '전환']\n",
      "\n",
      "https://www.riss.kr/search/detail/DetailView.do?p_mat_type=1a0202e37d52c72d&control_no=13d063967a0be5024884a65323211ff0&keyword=패션 인공지능\n",
      "인공지능이 패션산업에 미치는 영향 : 기계학습을 중심으로 https://www.riss.kr/search/detail/DetailView.do?p_mat_type=1a0202e37d52c72d&control_no=13d063967a0be5024884a65323211ff0&keyword=패션 인공지능 한국생활과학회(KOREAN LIVING SCIENCE ASSOCIATION) 2019 \n",
      "\n"
     ]
    }
   ],
   "source": [
    "import urllib3\n",
    "urllib3.disable_warnings()\n",
    "\n",
    "for element in elements :\n",
    "    title = element.select_one(\".title > a\").text\n",
    "    link = \"https://www.riss.kr\" + element.select_one(\".title > a\").attrs[\"href\"]\n",
    "    print(link)\n",
    "\n",
    "    #상세 페이지 요청\n",
    "    res = requests.get(link, headers = headers, verify=False)\n",
    "    soup = bs4.BeautifulSoup(res.text)\n",
    "    press = soup.find('span', string='발행기관').find_next_sibling().text\n",
    "    year = soup.find('span', string='발행연도').find_next_sibling().text\n",
    "    tag = soup.find_all('span', string='주제어')\n",
    "\n",
    "    if tag :\n",
    "        tag = soup.find('span', string='주제어').find_next_sibling().text.strip().replace(\";\",'').split()\n",
    "    else : \n",
    "        tag = \"\"\n",
    "    \n",
    "    print(title, link, press, year, tag)\n",
    "    print(\"\")"
   ]
  },
  {
   "cell_type": "code",
   "execution_count": null,
   "id": "70f4e68d-5dc4-469e-a011-b2ef291352c4",
   "metadata": {},
   "outputs": [],
   "source": []
  }
 ],
 "metadata": {
  "kernelspec": {
   "display_name": "Python [conda env:crawling_class]",
   "language": "python",
   "name": "conda-env-crawling_class-py"
  },
  "language_info": {
   "codemirror_mode": {
    "name": "ipython",
    "version": 3
   },
   "file_extension": ".py",
   "mimetype": "text/x-python",
   "name": "python",
   "nbconvert_exporter": "python",
   "pygments_lexer": "ipython3",
   "version": "3.8.20"
  }
 },
 "nbformat": 4,
 "nbformat_minor": 5
}
